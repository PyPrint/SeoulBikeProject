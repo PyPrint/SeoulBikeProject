{
  "cells": [
    {
      "cell_type": "markdown",
      "id": "f92a449e",
      "metadata": {
        "id": "f92a449e"
      },
      "source": [
        "# Welcome to the Seoul Bike Project"
      ]
    },
    {
      "cell_type": "markdown",
      "id": "1536d891",
      "metadata": {
        "id": "1536d891"
      },
      "source": [
        "In this project, I will use regression and deep learning techniques to predict the number of bikes needed to be available on a certain day based on a number of factors. The dataset is taken from the publicly avaiable Machine Learning Repository https://archive.ics.uci.edu/ml/datasets/Seoul+Bike+Sharing+Demand. "
      ]
    },
    {
      "cell_type": "markdown",
      "id": "4b08b485",
      "metadata": {
        "id": "4b08b485"
      },
      "source": [
        "## Part 1.1: Exploring the data."
      ]
    },
    {
      "cell_type": "markdown",
      "id": "2cd8e2f0",
      "metadata": {
        "id": "2cd8e2f0"
      },
      "source": [
        "First we import the libraries needed. "
      ]
    },
    {
      "cell_type": "code",
      "execution_count": 138,
      "id": "15ba0989",
      "metadata": {
        "id": "15ba0989"
      },
      "outputs": [],
      "source": [
        "import pandas as pd\n",
        "import datetime\n",
        "import matplotlib.pyplot as plt\n",
        "import numpy as np\n",
        "\n",
        "from sklearn.model_selection import cross_val_score\n",
        "from sklearn.decomposition import KernelPCA\n",
        "from sklearn.discriminant_analysis import LinearDiscriminantAnalysis as LDA\n",
        "from sklearn.preprocessing import StandardScaler\n",
        "from sklearn.decomposition import PCA\n",
        "from sklearn.preprocessing import PowerTransformer, MinMaxScaler\n",
        "from sklearn.linear_model import LinearRegression\n",
        "from sklearn.model_selection import train_test_split\n",
        "from sklearn.metrics import mean_absolute_error, mean_squared_error, r2_score\n",
        "from sklearn.metrics import confusion_matrix, accuracy_score\n",
        "\n",
        "import tensorflow as tf\n",
        "\n",
        "import math"
      ]
    },
    {
      "cell_type": "markdown",
      "id": "35767a67",
      "metadata": {
        "id": "35767a67"
      },
      "source": [
        "We manually download the dataset, and load it using Pandas. We then explore the data a bit to see if there are any inconsistencies or features/values that we need to be careful with."
      ]
    },
    {
      "cell_type": "code",
      "execution_count": 18,
      "id": "168b16d0",
      "metadata": {
        "colab": {
          "base_uri": "https://localhost:8080/",
          "height": 354
        },
        "id": "168b16d0",
        "outputId": "c928edd3-a4e7-40e2-8d22-eede37a25e07"
      },
      "outputs": [
        {
          "output_type": "execute_result",
          "data": {
            "text/plain": [
              "            Date  Rented Bike Count  Hour  Temperature(°C)  Humidity(%)  \\\n",
              "8755  30/11/2018               1003    19              4.2           34   \n",
              "8756  30/11/2018                764    20              3.4           37   \n",
              "8757  30/11/2018                694    21              2.6           39   \n",
              "8758  30/11/2018                712    22              2.1           41   \n",
              "8759  30/11/2018                584    23              1.9           43   \n",
              "\n",
              "      Wind speed (m/s)  Visibility (10m)  Dew point temperature(°C)  \\\n",
              "8755               2.6              1894                      -10.3   \n",
              "8756               2.3              2000                       -9.9   \n",
              "8757               0.3              1968                       -9.9   \n",
              "8758               1.0              1859                       -9.8   \n",
              "8759               1.3              1909                       -9.3   \n",
              "\n",
              "      Solar Radiation (MJ/m2)  Rainfall(mm)  Snowfall (cm) Seasons  \\\n",
              "8755                      0.0           0.0            0.0  Autumn   \n",
              "8756                      0.0           0.0            0.0  Autumn   \n",
              "8757                      0.0           0.0            0.0  Autumn   \n",
              "8758                      0.0           0.0            0.0  Autumn   \n",
              "8759                      0.0           0.0            0.0  Autumn   \n",
              "\n",
              "         Holiday Functioning Day  \n",
              "8755  No Holiday             Yes  \n",
              "8756  No Holiday             Yes  \n",
              "8757  No Holiday             Yes  \n",
              "8758  No Holiday             Yes  \n",
              "8759  No Holiday             Yes  "
            ],
            "text/html": [
              "\n",
              "  <div id=\"df-310e8f5a-ec22-4904-ab31-60e5b0dea9c9\">\n",
              "    <div class=\"colab-df-container\">\n",
              "      <div>\n",
              "<style scoped>\n",
              "    .dataframe tbody tr th:only-of-type {\n",
              "        vertical-align: middle;\n",
              "    }\n",
              "\n",
              "    .dataframe tbody tr th {\n",
              "        vertical-align: top;\n",
              "    }\n",
              "\n",
              "    .dataframe thead th {\n",
              "        text-align: right;\n",
              "    }\n",
              "</style>\n",
              "<table border=\"1\" class=\"dataframe\">\n",
              "  <thead>\n",
              "    <tr style=\"text-align: right;\">\n",
              "      <th></th>\n",
              "      <th>Date</th>\n",
              "      <th>Rented Bike Count</th>\n",
              "      <th>Hour</th>\n",
              "      <th>Temperature(°C)</th>\n",
              "      <th>Humidity(%)</th>\n",
              "      <th>Wind speed (m/s)</th>\n",
              "      <th>Visibility (10m)</th>\n",
              "      <th>Dew point temperature(°C)</th>\n",
              "      <th>Solar Radiation (MJ/m2)</th>\n",
              "      <th>Rainfall(mm)</th>\n",
              "      <th>Snowfall (cm)</th>\n",
              "      <th>Seasons</th>\n",
              "      <th>Holiday</th>\n",
              "      <th>Functioning Day</th>\n",
              "    </tr>\n",
              "  </thead>\n",
              "  <tbody>\n",
              "    <tr>\n",
              "      <th>8755</th>\n",
              "      <td>30/11/2018</td>\n",
              "      <td>1003</td>\n",
              "      <td>19</td>\n",
              "      <td>4.2</td>\n",
              "      <td>34</td>\n",
              "      <td>2.6</td>\n",
              "      <td>1894</td>\n",
              "      <td>-10.3</td>\n",
              "      <td>0.0</td>\n",
              "      <td>0.0</td>\n",
              "      <td>0.0</td>\n",
              "      <td>Autumn</td>\n",
              "      <td>No Holiday</td>\n",
              "      <td>Yes</td>\n",
              "    </tr>\n",
              "    <tr>\n",
              "      <th>8756</th>\n",
              "      <td>30/11/2018</td>\n",
              "      <td>764</td>\n",
              "      <td>20</td>\n",
              "      <td>3.4</td>\n",
              "      <td>37</td>\n",
              "      <td>2.3</td>\n",
              "      <td>2000</td>\n",
              "      <td>-9.9</td>\n",
              "      <td>0.0</td>\n",
              "      <td>0.0</td>\n",
              "      <td>0.0</td>\n",
              "      <td>Autumn</td>\n",
              "      <td>No Holiday</td>\n",
              "      <td>Yes</td>\n",
              "    </tr>\n",
              "    <tr>\n",
              "      <th>8757</th>\n",
              "      <td>30/11/2018</td>\n",
              "      <td>694</td>\n",
              "      <td>21</td>\n",
              "      <td>2.6</td>\n",
              "      <td>39</td>\n",
              "      <td>0.3</td>\n",
              "      <td>1968</td>\n",
              "      <td>-9.9</td>\n",
              "      <td>0.0</td>\n",
              "      <td>0.0</td>\n",
              "      <td>0.0</td>\n",
              "      <td>Autumn</td>\n",
              "      <td>No Holiday</td>\n",
              "      <td>Yes</td>\n",
              "    </tr>\n",
              "    <tr>\n",
              "      <th>8758</th>\n",
              "      <td>30/11/2018</td>\n",
              "      <td>712</td>\n",
              "      <td>22</td>\n",
              "      <td>2.1</td>\n",
              "      <td>41</td>\n",
              "      <td>1.0</td>\n",
              "      <td>1859</td>\n",
              "      <td>-9.8</td>\n",
              "      <td>0.0</td>\n",
              "      <td>0.0</td>\n",
              "      <td>0.0</td>\n",
              "      <td>Autumn</td>\n",
              "      <td>No Holiday</td>\n",
              "      <td>Yes</td>\n",
              "    </tr>\n",
              "    <tr>\n",
              "      <th>8759</th>\n",
              "      <td>30/11/2018</td>\n",
              "      <td>584</td>\n",
              "      <td>23</td>\n",
              "      <td>1.9</td>\n",
              "      <td>43</td>\n",
              "      <td>1.3</td>\n",
              "      <td>1909</td>\n",
              "      <td>-9.3</td>\n",
              "      <td>0.0</td>\n",
              "      <td>0.0</td>\n",
              "      <td>0.0</td>\n",
              "      <td>Autumn</td>\n",
              "      <td>No Holiday</td>\n",
              "      <td>Yes</td>\n",
              "    </tr>\n",
              "  </tbody>\n",
              "</table>\n",
              "</div>\n",
              "      <button class=\"colab-df-convert\" onclick=\"convertToInteractive('df-310e8f5a-ec22-4904-ab31-60e5b0dea9c9')\"\n",
              "              title=\"Convert this dataframe to an interactive table.\"\n",
              "              style=\"display:none;\">\n",
              "        \n",
              "  <svg xmlns=\"http://www.w3.org/2000/svg\" height=\"24px\"viewBox=\"0 0 24 24\"\n",
              "       width=\"24px\">\n",
              "    <path d=\"M0 0h24v24H0V0z\" fill=\"none\"/>\n",
              "    <path d=\"M18.56 5.44l.94 2.06.94-2.06 2.06-.94-2.06-.94-.94-2.06-.94 2.06-2.06.94zm-11 1L8.5 8.5l.94-2.06 2.06-.94-2.06-.94L8.5 2.5l-.94 2.06-2.06.94zm10 10l.94 2.06.94-2.06 2.06-.94-2.06-.94-.94-2.06-.94 2.06-2.06.94z\"/><path d=\"M17.41 7.96l-1.37-1.37c-.4-.4-.92-.59-1.43-.59-.52 0-1.04.2-1.43.59L10.3 9.45l-7.72 7.72c-.78.78-.78 2.05 0 2.83L4 21.41c.39.39.9.59 1.41.59.51 0 1.02-.2 1.41-.59l7.78-7.78 2.81-2.81c.8-.78.8-2.07 0-2.86zM5.41 20L4 18.59l7.72-7.72 1.47 1.35L5.41 20z\"/>\n",
              "  </svg>\n",
              "      </button>\n",
              "      \n",
              "  <style>\n",
              "    .colab-df-container {\n",
              "      display:flex;\n",
              "      flex-wrap:wrap;\n",
              "      gap: 12px;\n",
              "    }\n",
              "\n",
              "    .colab-df-convert {\n",
              "      background-color: #E8F0FE;\n",
              "      border: none;\n",
              "      border-radius: 50%;\n",
              "      cursor: pointer;\n",
              "      display: none;\n",
              "      fill: #1967D2;\n",
              "      height: 32px;\n",
              "      padding: 0 0 0 0;\n",
              "      width: 32px;\n",
              "    }\n",
              "\n",
              "    .colab-df-convert:hover {\n",
              "      background-color: #E2EBFA;\n",
              "      box-shadow: 0px 1px 2px rgba(60, 64, 67, 0.3), 0px 1px 3px 1px rgba(60, 64, 67, 0.15);\n",
              "      fill: #174EA6;\n",
              "    }\n",
              "\n",
              "    [theme=dark] .colab-df-convert {\n",
              "      background-color: #3B4455;\n",
              "      fill: #D2E3FC;\n",
              "    }\n",
              "\n",
              "    [theme=dark] .colab-df-convert:hover {\n",
              "      background-color: #434B5C;\n",
              "      box-shadow: 0px 1px 3px 1px rgba(0, 0, 0, 0.15);\n",
              "      filter: drop-shadow(0px 1px 2px rgba(0, 0, 0, 0.3));\n",
              "      fill: #FFFFFF;\n",
              "    }\n",
              "  </style>\n",
              "\n",
              "      <script>\n",
              "        const buttonEl =\n",
              "          document.querySelector('#df-310e8f5a-ec22-4904-ab31-60e5b0dea9c9 button.colab-df-convert');\n",
              "        buttonEl.style.display =\n",
              "          google.colab.kernel.accessAllowed ? 'block' : 'none';\n",
              "\n",
              "        async function convertToInteractive(key) {\n",
              "          const element = document.querySelector('#df-310e8f5a-ec22-4904-ab31-60e5b0dea9c9');\n",
              "          const dataTable =\n",
              "            await google.colab.kernel.invokeFunction('convertToInteractive',\n",
              "                                                     [key], {});\n",
              "          if (!dataTable) return;\n",
              "\n",
              "          const docLinkHtml = 'Like what you see? Visit the ' +\n",
              "            '<a target=\"_blank\" href=https://colab.research.google.com/notebooks/data_table.ipynb>data table notebook</a>'\n",
              "            + ' to learn more about interactive tables.';\n",
              "          element.innerHTML = '';\n",
              "          dataTable['output_type'] = 'display_data';\n",
              "          await google.colab.output.renderOutput(dataTable, element);\n",
              "          const docLink = document.createElement('div');\n",
              "          docLink.innerHTML = docLinkHtml;\n",
              "          element.appendChild(docLink);\n",
              "        }\n",
              "      </script>\n",
              "    </div>\n",
              "  </div>\n",
              "  "
            ]
          },
          "metadata": {},
          "execution_count": 18
        }
      ],
      "source": [
        "df = pd.read_csv('SeoulBikeData.csv', encoding= 'unicode_escape')\n",
        "df.tail()"
      ]
    },
    {
      "cell_type": "markdown",
      "source": [
        "Checking for null values.."
      ],
      "metadata": {
        "id": "e7PEjEAyZ688"
      },
      "id": "e7PEjEAyZ688"
    },
    {
      "cell_type": "code",
      "execution_count": 19,
      "id": "85c8a13a",
      "metadata": {
        "colab": {
          "base_uri": "https://localhost:8080/"
        },
        "id": "85c8a13a",
        "outputId": "b97232c7-35b9-4d3c-b005-ca0df1a455c3"
      },
      "outputs": [
        {
          "output_type": "execute_result",
          "data": {
            "text/plain": [
              "Date                         0\n",
              "Rented Bike Count            0\n",
              "Hour                         0\n",
              "Temperature(°C)              0\n",
              "Humidity(%)                  0\n",
              "Wind speed (m/s)             0\n",
              "Visibility (10m)             0\n",
              "Dew point temperature(°C)    0\n",
              "Solar Radiation (MJ/m2)      0\n",
              "Rainfall(mm)                 0\n",
              "Snowfall (cm)                0\n",
              "Seasons                      0\n",
              "Holiday                      0\n",
              "Functioning Day              0\n",
              "dtype: int64"
            ]
          },
          "metadata": {},
          "execution_count": 19
        }
      ],
      "source": [
        "df.isnull().sum()"
      ]
    },
    {
      "cell_type": "markdown",
      "source": [
        "Using the .describe method, we inform ourself about the distributions of the numerical fields in the DataFrame. We can see that some fields have high variance and are somewhat skewed to either the left or right. A machine learning model wants to have neatly fitted normal distributions as input. We will come back to this later."
      ],
      "metadata": {
        "id": "NlCH67c2Z9CO"
      },
      "id": "NlCH67c2Z9CO"
    },
    {
      "cell_type": "code",
      "execution_count": 20,
      "id": "31dd3a6f",
      "metadata": {
        "colab": {
          "base_uri": "https://localhost:8080/",
          "height": 300
        },
        "id": "31dd3a6f",
        "outputId": "9da7e16b-19a2-4b94-80a7-f461ec255b58"
      },
      "outputs": [
        {
          "output_type": "execute_result",
          "data": {
            "text/plain": [
              "       Rented Bike Count         Hour  Temperature(°C)  Humidity(%)  \\\n",
              "count        8760.000000  8760.000000      8760.000000  8760.000000   \n",
              "mean          704.602055    11.500000        12.882922    58.226256   \n",
              "std           644.997468     6.922582        11.944825    20.362413   \n",
              "min             0.000000     0.000000       -17.800000     0.000000   \n",
              "25%           191.000000     5.750000         3.500000    42.000000   \n",
              "50%           504.500000    11.500000        13.700000    57.000000   \n",
              "75%          1065.250000    17.250000        22.500000    74.000000   \n",
              "max          3556.000000    23.000000        39.400000    98.000000   \n",
              "\n",
              "       Wind speed (m/s)  Visibility (10m)  Dew point temperature(°C)  \\\n",
              "count       8760.000000       8760.000000                8760.000000   \n",
              "mean           1.724909       1436.825799                   4.073813   \n",
              "std            1.036300        608.298712                  13.060369   \n",
              "min            0.000000         27.000000                 -30.600000   \n",
              "25%            0.900000        940.000000                  -4.700000   \n",
              "50%            1.500000       1698.000000                   5.100000   \n",
              "75%            2.300000       2000.000000                  14.800000   \n",
              "max            7.400000       2000.000000                  27.200000   \n",
              "\n",
              "       Solar Radiation (MJ/m2)  Rainfall(mm)  Snowfall (cm)  \n",
              "count              8760.000000   8760.000000    8760.000000  \n",
              "mean                  0.569111      0.148687       0.075068  \n",
              "std                   0.868746      1.128193       0.436746  \n",
              "min                   0.000000      0.000000       0.000000  \n",
              "25%                   0.000000      0.000000       0.000000  \n",
              "50%                   0.010000      0.000000       0.000000  \n",
              "75%                   0.930000      0.000000       0.000000  \n",
              "max                   3.520000     35.000000       8.800000  "
            ],
            "text/html": [
              "\n",
              "  <div id=\"df-2a31cd3b-83c7-473a-8b8c-35c9924d81bd\">\n",
              "    <div class=\"colab-df-container\">\n",
              "      <div>\n",
              "<style scoped>\n",
              "    .dataframe tbody tr th:only-of-type {\n",
              "        vertical-align: middle;\n",
              "    }\n",
              "\n",
              "    .dataframe tbody tr th {\n",
              "        vertical-align: top;\n",
              "    }\n",
              "\n",
              "    .dataframe thead th {\n",
              "        text-align: right;\n",
              "    }\n",
              "</style>\n",
              "<table border=\"1\" class=\"dataframe\">\n",
              "  <thead>\n",
              "    <tr style=\"text-align: right;\">\n",
              "      <th></th>\n",
              "      <th>Rented Bike Count</th>\n",
              "      <th>Hour</th>\n",
              "      <th>Temperature(°C)</th>\n",
              "      <th>Humidity(%)</th>\n",
              "      <th>Wind speed (m/s)</th>\n",
              "      <th>Visibility (10m)</th>\n",
              "      <th>Dew point temperature(°C)</th>\n",
              "      <th>Solar Radiation (MJ/m2)</th>\n",
              "      <th>Rainfall(mm)</th>\n",
              "      <th>Snowfall (cm)</th>\n",
              "    </tr>\n",
              "  </thead>\n",
              "  <tbody>\n",
              "    <tr>\n",
              "      <th>count</th>\n",
              "      <td>8760.000000</td>\n",
              "      <td>8760.000000</td>\n",
              "      <td>8760.000000</td>\n",
              "      <td>8760.000000</td>\n",
              "      <td>8760.000000</td>\n",
              "      <td>8760.000000</td>\n",
              "      <td>8760.000000</td>\n",
              "      <td>8760.000000</td>\n",
              "      <td>8760.000000</td>\n",
              "      <td>8760.000000</td>\n",
              "    </tr>\n",
              "    <tr>\n",
              "      <th>mean</th>\n",
              "      <td>704.602055</td>\n",
              "      <td>11.500000</td>\n",
              "      <td>12.882922</td>\n",
              "      <td>58.226256</td>\n",
              "      <td>1.724909</td>\n",
              "      <td>1436.825799</td>\n",
              "      <td>4.073813</td>\n",
              "      <td>0.569111</td>\n",
              "      <td>0.148687</td>\n",
              "      <td>0.075068</td>\n",
              "    </tr>\n",
              "    <tr>\n",
              "      <th>std</th>\n",
              "      <td>644.997468</td>\n",
              "      <td>6.922582</td>\n",
              "      <td>11.944825</td>\n",
              "      <td>20.362413</td>\n",
              "      <td>1.036300</td>\n",
              "      <td>608.298712</td>\n",
              "      <td>13.060369</td>\n",
              "      <td>0.868746</td>\n",
              "      <td>1.128193</td>\n",
              "      <td>0.436746</td>\n",
              "    </tr>\n",
              "    <tr>\n",
              "      <th>min</th>\n",
              "      <td>0.000000</td>\n",
              "      <td>0.000000</td>\n",
              "      <td>-17.800000</td>\n",
              "      <td>0.000000</td>\n",
              "      <td>0.000000</td>\n",
              "      <td>27.000000</td>\n",
              "      <td>-30.600000</td>\n",
              "      <td>0.000000</td>\n",
              "      <td>0.000000</td>\n",
              "      <td>0.000000</td>\n",
              "    </tr>\n",
              "    <tr>\n",
              "      <th>25%</th>\n",
              "      <td>191.000000</td>\n",
              "      <td>5.750000</td>\n",
              "      <td>3.500000</td>\n",
              "      <td>42.000000</td>\n",
              "      <td>0.900000</td>\n",
              "      <td>940.000000</td>\n",
              "      <td>-4.700000</td>\n",
              "      <td>0.000000</td>\n",
              "      <td>0.000000</td>\n",
              "      <td>0.000000</td>\n",
              "    </tr>\n",
              "    <tr>\n",
              "      <th>50%</th>\n",
              "      <td>504.500000</td>\n",
              "      <td>11.500000</td>\n",
              "      <td>13.700000</td>\n",
              "      <td>57.000000</td>\n",
              "      <td>1.500000</td>\n",
              "      <td>1698.000000</td>\n",
              "      <td>5.100000</td>\n",
              "      <td>0.010000</td>\n",
              "      <td>0.000000</td>\n",
              "      <td>0.000000</td>\n",
              "    </tr>\n",
              "    <tr>\n",
              "      <th>75%</th>\n",
              "      <td>1065.250000</td>\n",
              "      <td>17.250000</td>\n",
              "      <td>22.500000</td>\n",
              "      <td>74.000000</td>\n",
              "      <td>2.300000</td>\n",
              "      <td>2000.000000</td>\n",
              "      <td>14.800000</td>\n",
              "      <td>0.930000</td>\n",
              "      <td>0.000000</td>\n",
              "      <td>0.000000</td>\n",
              "    </tr>\n",
              "    <tr>\n",
              "      <th>max</th>\n",
              "      <td>3556.000000</td>\n",
              "      <td>23.000000</td>\n",
              "      <td>39.400000</td>\n",
              "      <td>98.000000</td>\n",
              "      <td>7.400000</td>\n",
              "      <td>2000.000000</td>\n",
              "      <td>27.200000</td>\n",
              "      <td>3.520000</td>\n",
              "      <td>35.000000</td>\n",
              "      <td>8.800000</td>\n",
              "    </tr>\n",
              "  </tbody>\n",
              "</table>\n",
              "</div>\n",
              "      <button class=\"colab-df-convert\" onclick=\"convertToInteractive('df-2a31cd3b-83c7-473a-8b8c-35c9924d81bd')\"\n",
              "              title=\"Convert this dataframe to an interactive table.\"\n",
              "              style=\"display:none;\">\n",
              "        \n",
              "  <svg xmlns=\"http://www.w3.org/2000/svg\" height=\"24px\"viewBox=\"0 0 24 24\"\n",
              "       width=\"24px\">\n",
              "    <path d=\"M0 0h24v24H0V0z\" fill=\"none\"/>\n",
              "    <path d=\"M18.56 5.44l.94 2.06.94-2.06 2.06-.94-2.06-.94-.94-2.06-.94 2.06-2.06.94zm-11 1L8.5 8.5l.94-2.06 2.06-.94-2.06-.94L8.5 2.5l-.94 2.06-2.06.94zm10 10l.94 2.06.94-2.06 2.06-.94-2.06-.94-.94-2.06-.94 2.06-2.06.94z\"/><path d=\"M17.41 7.96l-1.37-1.37c-.4-.4-.92-.59-1.43-.59-.52 0-1.04.2-1.43.59L10.3 9.45l-7.72 7.72c-.78.78-.78 2.05 0 2.83L4 21.41c.39.39.9.59 1.41.59.51 0 1.02-.2 1.41-.59l7.78-7.78 2.81-2.81c.8-.78.8-2.07 0-2.86zM5.41 20L4 18.59l7.72-7.72 1.47 1.35L5.41 20z\"/>\n",
              "  </svg>\n",
              "      </button>\n",
              "      \n",
              "  <style>\n",
              "    .colab-df-container {\n",
              "      display:flex;\n",
              "      flex-wrap:wrap;\n",
              "      gap: 12px;\n",
              "    }\n",
              "\n",
              "    .colab-df-convert {\n",
              "      background-color: #E8F0FE;\n",
              "      border: none;\n",
              "      border-radius: 50%;\n",
              "      cursor: pointer;\n",
              "      display: none;\n",
              "      fill: #1967D2;\n",
              "      height: 32px;\n",
              "      padding: 0 0 0 0;\n",
              "      width: 32px;\n",
              "    }\n",
              "\n",
              "    .colab-df-convert:hover {\n",
              "      background-color: #E2EBFA;\n",
              "      box-shadow: 0px 1px 2px rgba(60, 64, 67, 0.3), 0px 1px 3px 1px rgba(60, 64, 67, 0.15);\n",
              "      fill: #174EA6;\n",
              "    }\n",
              "\n",
              "    [theme=dark] .colab-df-convert {\n",
              "      background-color: #3B4455;\n",
              "      fill: #D2E3FC;\n",
              "    }\n",
              "\n",
              "    [theme=dark] .colab-df-convert:hover {\n",
              "      background-color: #434B5C;\n",
              "      box-shadow: 0px 1px 3px 1px rgba(0, 0, 0, 0.15);\n",
              "      filter: drop-shadow(0px 1px 2px rgba(0, 0, 0, 0.3));\n",
              "      fill: #FFFFFF;\n",
              "    }\n",
              "  </style>\n",
              "\n",
              "      <script>\n",
              "        const buttonEl =\n",
              "          document.querySelector('#df-2a31cd3b-83c7-473a-8b8c-35c9924d81bd button.colab-df-convert');\n",
              "        buttonEl.style.display =\n",
              "          google.colab.kernel.accessAllowed ? 'block' : 'none';\n",
              "\n",
              "        async function convertToInteractive(key) {\n",
              "          const element = document.querySelector('#df-2a31cd3b-83c7-473a-8b8c-35c9924d81bd');\n",
              "          const dataTable =\n",
              "            await google.colab.kernel.invokeFunction('convertToInteractive',\n",
              "                                                     [key], {});\n",
              "          if (!dataTable) return;\n",
              "\n",
              "          const docLinkHtml = 'Like what you see? Visit the ' +\n",
              "            '<a target=\"_blank\" href=https://colab.research.google.com/notebooks/data_table.ipynb>data table notebook</a>'\n",
              "            + ' to learn more about interactive tables.';\n",
              "          element.innerHTML = '';\n",
              "          dataTable['output_type'] = 'display_data';\n",
              "          await google.colab.output.renderOutput(dataTable, element);\n",
              "          const docLink = document.createElement('div');\n",
              "          docLink.innerHTML = docLinkHtml;\n",
              "          element.appendChild(docLink);\n",
              "        }\n",
              "      </script>\n",
              "    </div>\n",
              "  </div>\n",
              "  "
            ]
          },
          "metadata": {},
          "execution_count": 20
        }
      ],
      "source": [
        "df.describe()"
      ]
    },
    {
      "cell_type": "markdown",
      "id": "0525ec5b",
      "metadata": {
        "id": "0525ec5b"
      },
      "source": [
        "#Part 1.2: The categorical fields. "
      ]
    },
    {
      "cell_type": "markdown",
      "source": [
        "We want to map the categorical fields to normal distributions. Firstly, we map the date to a number of the week. Secondly, we map all categorical values to dummy variables (aka one-hot encodings). Thirdly, we drop the Date column, because the Weekday column already posses aggregated information about the date. The categorical fields are now all mapped to binary columns, perfect for machine learning! We define a new DateFrame called df_processed. "
      ],
      "metadata": {
        "id": "dewt5AjBbQox"
      },
      "id": "dewt5AjBbQox"
    },
    {
      "cell_type": "code",
      "execution_count": 145,
      "id": "81e27f65",
      "metadata": {
        "id": "81e27f65"
      },
      "outputs": [],
      "source": [
        "df['Weekday'] = [datetime.datetime.strptime(date, '%d/%m/%Y').weekday() for date in df['Date']] #monday = 0, sunday = 6\n",
        "df_processed = pd.get_dummies(data=df, columns=['Weekday', 'Hour', 'Seasons', 'Holiday', 'Functioning Day'])\n",
        "df_processed.drop(['Date'], axis=1, inplace=True)"
      ]
    },
    {
      "cell_type": "markdown",
      "source": [
        "#Part 1.3: The numerical fields. "
      ],
      "metadata": {
        "id": "nODHSf69b319"
      },
      "id": "nODHSf69b319"
    },
    {
      "cell_type": "markdown",
      "source": [
        "Unfortunately, translating the numerical fields to something that easy to model is not as straightforward as the categorical fields. We first want to see how each distribution looks like. This is done using the matplotlib library. "
      ],
      "metadata": {
        "id": "neuaQs8kb8BL"
      },
      "id": "neuaQs8kb8BL"
    },
    {
      "cell_type": "code",
      "execution_count": 146,
      "id": "ae671a2c",
      "metadata": {
        "colab": {
          "base_uri": "https://localhost:8080/",
          "height": 777
        },
        "id": "ae671a2c",
        "outputId": "e9c8e934-b4d6-497b-d59b-8555c994b8d2"
      },
      "outputs": [
        {
          "output_type": "execute_result",
          "data": {
            "text/plain": [
              "array([[<Axes: title={'center': 'Rented Bike Count'}>,\n",
              "        <Axes: title={'center': 'Temperature(°C)'}>,\n",
              "        <Axes: title={'center': 'Humidity(%)'}>],\n",
              "       [<Axes: title={'center': 'Wind speed (m/s)'}>,\n",
              "        <Axes: title={'center': 'Visibility (10m)'}>,\n",
              "        <Axes: title={'center': 'Dew point temperature(°C)'}>],\n",
              "       [<Axes: title={'center': 'Solar Radiation (MJ/m2)'}>,\n",
              "        <Axes: title={'center': 'Rainfall(mm)'}>,\n",
              "        <Axes: title={'center': 'Snowfall (cm)'}>]], dtype=object)"
            ]
          },
          "metadata": {},
          "execution_count": 146
        },
        {
          "output_type": "display_data",
          "data": {
            "text/plain": [
              "<Figure size 720x720 with 9 Axes>"
            ],
            "image/png": "[encoded data removed]"
          },
          "metadata": {
            "needs_background": "light"
          }
        }
      ],
      "source": [
        "#df_processed_hist = df_processed.iloc[:,:9]\n",
        "#number = 9\n",
        "#column = df_processed_hist.columns[number]\n",
        "#plt.hist(x=df_processed_hist[column])\n",
        "#plt.xlabel(column)\n",
        "#plt.ylabel('Frequency')      \n",
        "#plt.show()\n",
        "\n",
        "df_processed_hist = df_processed.iloc[:,:9]\n",
        "df_processed_hist.hist(figsize=(10,10))"
      ]
    },
    {
      "cell_type": "markdown",
      "source": [
        "We can make a couple of obervations:\n",
        "- 'Rented Bike Count' is heavily skewed to the left and is >= 0\n",
        "- 'Temperature' already acts somewhat like a normal distribution\n",
        "- 'Humidity' already acts somewhat like a normal distribution\n",
        "- 'Wind speed' is heavily skewed to the left and is >= 0\n",
        "- 'Visibility' is heavily skewed to the right and is >= 0\n",
        "- 'Dew point temperature' is skewed to the right\n",
        "- 'Solar Radiation' is heavily skewed to the left and is >= 0\n",
        "- 'Rainfall' is extremely skewed to the left and is >= 0\n",
        "- 'Snowfall' is extremely skewed to the left and is >= 0\n",
        "\n",
        "From this we can apply the following scaling:\n",
        "- 'Rented Bike Count' -> Box-Cox\n",
        "- 'Temperature' -> Standard Scaler\n",
        "- 'Humidity' -> Standard Scaler\n",
        "- 'Wind speed' -> Box-Cox\n",
        "- 'Visibility' -> Box-Cox\n",
        "- 'Dew point temperature' -> We cant use Box-Cox because of negative values, we instead use a -> Standard Scaler\n",
        "- 'Solar Radiation' -> Box-Cox\n",
        "- 'Rainfall' is extremely -> Box-Cox\n",
        "- 'Snowfall' is extremely -> Box-Cox"
      ],
      "metadata": {
        "id": "c7R9zep4cRcb"
      },
      "id": "c7R9zep4cRcb"
    },
    {
      "cell_type": "markdown",
      "source": [
        "Setting up the MinMax and BoxCox scalers for every column."
      ],
      "metadata": {
        "id": "Np_4u3iygP2S"
      },
      "id": "Np_4u3iygP2S"
    },
    {
      "cell_type": "code",
      "source": [
        "boxcox_rentedbike = PowerTransformer(method='box-cox')\n",
        "boxcox_windspeed = PowerTransformer(method='box-cox')\n",
        "boxcox_visibility = PowerTransformer(method='box-cox')\n",
        "boxcox_solarrad = PowerTransformer(method='box-cox')\n",
        "boxcox_rain = PowerTransformer(method='box-cox')\n",
        "boxcox_snow = PowerTransformer(method='box-cox')\n",
        "minmax_temp = StandardScaler()\n",
        "minmax_humidity = StandardScaler()\n",
        "boxcox_dewpoint = StandardScaler()\n",
        "\n",
        "df_processed['Rented Bike Count'] = boxcox_rentedbike.fit_transform(np.array(df_processed['Rented Bike Count'].apply(lambda x : x+1)).reshape(-1,1)) #x+1 because we cant have zero values.\n",
        "df_processed['Wind speed (m/s)'] = boxcox_windspeed.fit_transform(np.array(df_processed['Wind speed (m/s)'].apply(lambda x : x+1)).reshape(-1,1))\n",
        "df_processed['Visibility (10m)'] = boxcox_visibility.fit_transform(np.array(df_processed['Visibility (10m)'].apply(lambda x : x+1)).reshape(-1,1))\n",
        "df_processed['Solar Radiation (MJ/m2)'] = boxcox_solarrad.fit_transform(np.array(df_processed['Solar Radiation (MJ/m2)'].apply(lambda x : x+1)).reshape(-1,1))\n",
        "df_processed['Rainfall(mm)'] = boxcox_rain.fit_transform(np.array(df_processed['Rainfall(mm)'].apply(lambda x : x+1)).reshape(-1,1))\n",
        "df_processed['Snowfall (cm)'] = boxcox_snow.fit_transform(np.array(df_processed['Snowfall (cm)'].apply(lambda x : x+1)).reshape(-1,1))\n",
        "df_processed['Temperature(°C)'] = minmax_temp.fit_transform(np.array(df_processed['Temperature(°C)']).reshape(-1,1))\n",
        "df_processed['Humidity(%)'] = minmax_humidity.fit_transform(np.array(df_processed['Humidity(%)']).reshape(-1,1))\n",
        "df_processed['Dew point temperature(°C)'] = boxcox_dewpoint.fit_transform(np.array(df_processed['Dew point temperature(°C)']).reshape(-1,1))"
      ],
      "metadata": {
        "id": "LATwKwkmgNl_"
      },
      "id": "LATwKwkmgNl_",
      "execution_count": 147,
      "outputs": []
    },
    {
      "cell_type": "markdown",
      "source": [
        "Now we check if these transformations have actually worked:"
      ],
      "metadata": {
        "id": "nCmuEkPaiEd4"
      },
      "id": "nCmuEkPaiEd4"
    },
    {
      "cell_type": "code",
      "source": [
        "df_processed_hist = df_processed.iloc[:,:9]\n",
        "df_processed_hist.hist(figsize=(10,10))"
      ],
      "metadata": {
        "colab": {
          "base_uri": "https://localhost:8080/",
          "height": 777
        },
        "id": "T26G7LTziHnt",
        "outputId": "fb2467d1-324b-4906-87f1-4a8495cd17ab"
      },
      "id": "T26G7LTziHnt",
      "execution_count": 148,
      "outputs": [
        {
          "output_type": "execute_result",
          "data": {
            "text/plain": [
              "array([[<Axes: title={'center': 'Rented Bike Count'}>,\n",
              "        <Axes: title={'center': 'Temperature(°C)'}>,\n",
              "        <Axes: title={'center': 'Humidity(%)'}>],\n",
              "       [<Axes: title={'center': 'Wind speed (m/s)'}>,\n",
              "        <Axes: title={'center': 'Visibility (10m)'}>,\n",
              "        <Axes: title={'center': 'Dew point temperature(°C)'}>],\n",
              "       [<Axes: title={'center': 'Solar Radiation (MJ/m2)'}>,\n",
              "        <Axes: title={'center': 'Rainfall(mm)'}>,\n",
              "        <Axes: title={'center': 'Snowfall (cm)'}>]], dtype=object)"
            ]
          },
          "metadata": {},
          "execution_count": 148
        },
        {
          "output_type": "display_data",
          "data": {
            "text/plain": [
              "<Figure size 720x720 with 9 Axes>"
            ],
            "image/png": "[encoded data removed]"
          },
          "metadata": {
            "needs_background": "light"
          }
        }
      ]
    },
    {
      "cell_type": "markdown",
      "id": "d3b7986f",
      "metadata": {
        "id": "d3b7986f"
      },
      "source": [
        "That is better! But it can certainly be improved... A possible solution would be to bin the values of the extremely skewed distributions - or to remove them altogether, since most of the values are zero anyways."
      ]
    },
    {
      "cell_type": "markdown",
      "id": "9f1c076e",
      "metadata": {
        "id": "9f1c076e"
      },
      "source": [
        "## Part 2.1: Using Scikit-Learn to predict the number of bikes that need to be available. "
      ]
    },
    {
      "cell_type": "markdown",
      "id": "acc2ba52",
      "metadata": {
        "id": "acc2ba52"
      },
      "source": [
        "Let us define the feature values X and the target values y. And using the train_test_split function, we define the training set and the test set. There is some debate in the data science community whether one should put the train_test split infront or after the scaling. As you can see, I also performed Principal Component Analysis to reduce the dimensionality. But this only resulted in worse results. We perform Multiple Linear Regression on the preprocessed data. "
      ]
    },
    {
      "cell_type": "code",
      "execution_count": 190,
      "id": "a97aa149",
      "metadata": {
        "colab": {
          "base_uri": "https://localhost:8080/",
          "height": 81
        },
        "id": "a97aa149",
        "outputId": "1289c07e-af06-47d2-9b08-f2d21e5b20c5"
      },
      "outputs": [
        {
          "output_type": "execute_result",
          "data": {
            "text/plain": [
              "        MAE      MSE        R2\n",
              "0  0.334317  0.19268  0.769627"
            ],
            "text/html": [
              "\n",
              "  <div id=\"df-67773e60-3ed8-43c1-a11b-4ca7463da572\">\n",
              "    <div class=\"colab-df-container\">\n",
              "      <div>\n",
              "<style scoped>\n",
              "    .dataframe tbody tr th:only-of-type {\n",
              "        vertical-align: middle;\n",
              "    }\n",
              "\n",
              "    .dataframe tbody tr th {\n",
              "        vertical-align: top;\n",
              "    }\n",
              "\n",
              "    .dataframe thead th {\n",
              "        text-align: right;\n",
              "    }\n",
              "</style>\n",
              "<table border=\"1\" class=\"dataframe\">\n",
              "  <thead>\n",
              "    <tr style=\"text-align: right;\">\n",
              "      <th></th>\n",
              "      <th>MAE</th>\n",
              "      <th>MSE</th>\n",
              "      <th>R2</th>\n",
              "    </tr>\n",
              "  </thead>\n",
              "  <tbody>\n",
              "    <tr>\n",
              "      <th>0</th>\n",
              "      <td>0.334317</td>\n",
              "      <td>0.19268</td>\n",
              "      <td>0.769627</td>\n",
              "    </tr>\n",
              "  </tbody>\n",
              "</table>\n",
              "</div>\n",
              "      <button class=\"colab-df-convert\" onclick=\"convertToInteractive('df-67773e60-3ed8-43c1-a11b-4ca7463da572')\"\n",
              "              title=\"Convert this dataframe to an interactive table.\"\n",
              "              style=\"display:none;\">\n",
              "        \n",
              "  <svg xmlns=\"http://www.w3.org/2000/svg\" height=\"24px\"viewBox=\"0 0 24 24\"\n",
              "       width=\"24px\">\n",
              "    <path d=\"M0 0h24v24H0V0z\" fill=\"none\"/>\n",
              "    <path d=\"M18.56 5.44l.94 2.06.94-2.06 2.06-.94-2.06-.94-.94-2.06-.94 2.06-2.06.94zm-11 1L8.5 8.5l.94-2.06 2.06-.94-2.06-.94L8.5 2.5l-.94 2.06-2.06.94zm10 10l.94 2.06.94-2.06 2.06-.94-2.06-.94-.94-2.06-.94 2.06-2.06.94z\"/><path d=\"M17.41 7.96l-1.37-1.37c-.4-.4-.92-.59-1.43-.59-.52 0-1.04.2-1.43.59L10.3 9.45l-7.72 7.72c-.78.78-.78 2.05 0 2.83L4 21.41c.39.39.9.59 1.41.59.51 0 1.02-.2 1.41-.59l7.78-7.78 2.81-2.81c.8-.78.8-2.07 0-2.86zM5.41 20L4 18.59l7.72-7.72 1.47 1.35L5.41 20z\"/>\n",
              "  </svg>\n",
              "      </button>\n",
              "      \n",
              "  <style>\n",
              "    .colab-df-container {\n",
              "      display:flex;\n",
              "      flex-wrap:wrap;\n",
              "      gap: 12px;\n",
              "    }\n",
              "\n",
              "    .colab-df-convert {\n",
              "      background-color: #E8F0FE;\n",
              "      border: none;\n",
              "      border-radius: 50%;\n",
              "      cursor: pointer;\n",
              "      display: none;\n",
              "      fill: #1967D2;\n",
              "      height: 32px;\n",
              "      padding: 0 0 0 0;\n",
              "      width: 32px;\n",
              "    }\n",
              "\n",
              "    .colab-df-convert:hover {\n",
              "      background-color: #E2EBFA;\n",
              "      box-shadow: 0px 1px 2px rgba(60, 64, 67, 0.3), 0px 1px 3px 1px rgba(60, 64, 67, 0.15);\n",
              "      fill: #174EA6;\n",
              "    }\n",
              "\n",
              "    [theme=dark] .colab-df-convert {\n",
              "      background-color: #3B4455;\n",
              "      fill: #D2E3FC;\n",
              "    }\n",
              "\n",
              "    [theme=dark] .colab-df-convert:hover {\n",
              "      background-color: #434B5C;\n",
              "      box-shadow: 0px 1px 3px 1px rgba(0, 0, 0, 0.15);\n",
              "      filter: drop-shadow(0px 1px 2px rgba(0, 0, 0, 0.3));\n",
              "      fill: #FFFFFF;\n",
              "    }\n",
              "  </style>\n",
              "\n",
              "      <script>\n",
              "        const buttonEl =\n",
              "          document.querySelector('#df-67773e60-3ed8-43c1-a11b-4ca7463da572 button.colab-df-convert');\n",
              "        buttonEl.style.display =\n",
              "          google.colab.kernel.accessAllowed ? 'block' : 'none';\n",
              "\n",
              "        async function convertToInteractive(key) {\n",
              "          const element = document.querySelector('#df-67773e60-3ed8-43c1-a11b-4ca7463da572');\n",
              "          const dataTable =\n",
              "            await google.colab.kernel.invokeFunction('convertToInteractive',\n",
              "                                                     [key], {});\n",
              "          if (!dataTable) return;\n",
              "\n",
              "          const docLinkHtml = 'Like what you see? Visit the ' +\n",
              "            '<a target=\"_blank\" href=https://colab.research.google.com/notebooks/data_table.ipynb>data table notebook</a>'\n",
              "            + ' to learn more about interactive tables.';\n",
              "          element.innerHTML = '';\n",
              "          dataTable['output_type'] = 'display_data';\n",
              "          await google.colab.output.renderOutput(dataTable, element);\n",
              "          const docLink = document.createElement('div');\n",
              "          docLink.innerHTML = docLinkHtml;\n",
              "          element.appendChild(docLink);\n",
              "        }\n",
              "      </script>\n",
              "    </div>\n",
              "  </div>\n",
              "  "
            ]
          },
          "metadata": {},
          "execution_count": 190
        }
      ],
      "source": [
        "X = df_processed.drop('Rented Bike Count', axis=1)\n",
        "y = df_processed['Rented Bike Count']\n",
        "X_train, X_test, y_train, y_test = train_test_split(X, y, test_size = 0.2, random_state = 10)\n",
        "\n",
        "#pca = PCA(n_components = 20) #47 to 20 features\n",
        "#X_train = pca.fit_transform(X_train)\n",
        "#X_test = pca.transform(X_test)\n",
        "\n",
        "#kpca = KernelPCA(n_components = 20, kernel = 'rbf')\n",
        "#X_train = kpca.fit_transform(X_train)\n",
        "#X_test = kpca.transform(X_test)\n",
        "\n",
        "LR = LinearRegression()\n",
        "LR.fit(X_train, y_train)\n",
        "predictions = LR.predict(X_test)\n",
        "#y_test = boxcox_rentedbike.inverse_transform(np.array(y_test).reshape(-1,1))\n",
        "#predictions = boxcox_rentedbike.inverse_transform(predictions.reshape(-1,1))\n",
        "\n",
        "LinearRegression_MAE = mean_absolute_error(predictions, y_test)\n",
        "LinearRegression_MSE = mean_squared_error(predictions, y_test)\n",
        "LinearRegression_R2 = r2_score(predictions, y_test)\n",
        "Report = pd.DataFrame({'MAE': LinearRegression_MAE, 'MSE' : LinearRegression_MSE, 'R2' : LinearRegression_R2}, index=[0])\n",
        "Report"
      ]
    },
    {
      "cell_type": "markdown",
      "source": [
        "We obtain a 'low' mean squared error and 'high' R2 score. This is somewhat good, but it can be improved for sure. Lets look at the actual predicted values, versus the original values. "
      ],
      "metadata": {
        "id": "shQr09enn7cR"
      },
      "id": "shQr09enn7cR"
    },
    {
      "cell_type": "code",
      "source": [
        "y_test_inv = boxcox_rentedbike.inverse_transform(np.array(y_test).reshape(-1,1))\n",
        "predictions_inv = boxcox_rentedbike.inverse_transform(predictions.reshape(-1,1))\n",
        "list(zip(y_test_inv, predictions_inv))[:30]"
      ],
      "metadata": {
        "colab": {
          "base_uri": "https://localhost:8080/"
        },
        "id": "J4AilaHj_DzJ",
        "outputId": "618f2540-6a68-475f-a00b-4cfa85562dba"
      },
      "id": "J4AilaHj_DzJ",
      "execution_count": 192,
      "outputs": [
        {
          "output_type": "execute_result",
          "data": {
            "text/plain": [
              "[(array([32.]), array([12.11539951])),\n",
              " (array([906.]), array([682.95007129])),\n",
              " (array([1376.]), array([795.35064215])),\n",
              " (array([1108.]), array([982.0817491])),\n",
              " (array([415.]), array([387.98323504])),\n",
              " (array([530.]), array([142.57471767])),\n",
              " (array([241.]), array([169.18774647])),\n",
              " (array([1032.]), array([1131.76068317])),\n",
              " (array([116.]), array([118.43252039])),\n",
              " (array([447.]), array([451.00372443])),\n",
              " (array([1081.]), array([766.17970527])),\n",
              " (array([783.]), array([616.16415603])),\n",
              " (array([838.]), array([873.0297876])),\n",
              " (array([1.]), array([22.17377798])),\n",
              " (array([302.]), array([333.98864906])),\n",
              " (array([1235.]), array([1305.52783029])),\n",
              " (array([813.]), array([1823.11219845])),\n",
              " (array([235.]), array([307.29341904])),\n",
              " (array([782.]), array([531.46812535])),\n",
              " (array([702.]), array([412.00689214])),\n",
              " (array([280.]), array([264.7202036])),\n",
              " (array([1936.]), array([1581.26479013])),\n",
              " (array([1.]), array([25.07408074])),\n",
              " (array([1866.]), array([2184.98620402])),\n",
              " (array([876.]), array([739.80998837])),\n",
              " (array([1119.]), array([1079.70186784])),\n",
              " (array([410.]), array([821.26275519])),\n",
              " (array([2100.]), array([1371.13243159])),\n",
              " (array([996.]), array([952.296718])),\n",
              " (array([11.]), array([36.77832383]))]"
            ]
          },
          "metadata": {},
          "execution_count": 192
        }
      ]
    },
    {
      "cell_type": "markdown",
      "id": "ac8ff6b9",
      "metadata": {
        "id": "ac8ff6b9"
      },
      "source": [
        "As we can see, the model is sometimes very close (20 bikes) away from the true value. But sometimes it can also completely miss the mark. "
      ]
    },
    {
      "cell_type": "markdown",
      "source": [
        "## Part 2.2: Using Keras to predict the number of bikes that need to be available. "
      ],
      "metadata": {
        "id": "jPm2Otkwp_q0"
      },
      "id": "jPm2Otkwp_q0"
    },
    {
      "cell_type": "markdown",
      "source": [
        "\n",
        "\n",
        "Now, lets design a simple deep neural network using the Keras API. We hope that this network will outperform the general multiple linear regression. \n",
        "\n",
        "The input shape is (47,) because we have 47 columns. The model begins with a large amount of neurons (to increase overfitting), and uses embedding to lower the dimensions. In a deep MLP network, Relu are used most often. I have chosen for the Leaky Relus. The output activation is linear."
      ],
      "metadata": {
        "id": "KWmo3RL8p_u0"
      },
      "id": "KWmo3RL8p_u0"
    },
    {
      "cell_type": "code",
      "execution_count": 186,
      "id": "45f28682",
      "metadata": {
        "colab": {
          "base_uri": "https://localhost:8080/"
        },
        "id": "45f28682",
        "outputId": "38ed9aec-7bce-49e1-ab88-a793e8736b3f"
      },
      "outputs": [
        {
          "output_type": "stream",
          "name": "stdout",
          "text": [
            "Model: \"sequential_2\"\n",
            "_________________________________________________________________\n",
            " Layer (type)                Output Shape              Param #   \n",
            "=================================================================\n",
            " dense_12 (Dense)            (None, 64)                3072      \n",
            "                                                                 \n",
            " leaky_re_lu_10 (LeakyReLU)  (None, 64)                0         \n",
            "                                                                 \n",
            " dense_13 (Dense)            (None, 64)                4160      \n",
            "                                                                 \n",
            " leaky_re_lu_11 (LeakyReLU)  (None, 64)                0         \n",
            "                                                                 \n",
            " dense_14 (Dense)            (None, 64)                4160      \n",
            "                                                                 \n",
            " leaky_re_lu_12 (LeakyReLU)  (None, 64)                0         \n",
            "                                                                 \n",
            " dense_15 (Dense)            (None, 32)                2080      \n",
            "                                                                 \n",
            " leaky_re_lu_13 (LeakyReLU)  (None, 32)                0         \n",
            "                                                                 \n",
            " dense_16 (Dense)            (None, 16)                528       \n",
            "                                                                 \n",
            " leaky_re_lu_14 (LeakyReLU)  (None, 16)                0         \n",
            "                                                                 \n",
            " dense_17 (Dense)            (None, 1)                 17        \n",
            "                                                                 \n",
            "=================================================================\n",
            "Total params: 14,017\n",
            "Trainable params: 14,017\n",
            "Non-trainable params: 0\n",
            "_________________________________________________________________\n"
          ]
        }
      ],
      "source": [
        "model = tf.keras.Sequential()\n",
        "model.add(tf.keras.Input(shape=(47,)))\n",
        "model.add(tf.keras.layers.Dense(64,use_bias=True))\n",
        "model.add(tf.keras.layers.LeakyReLU(alpha=0.3))\n",
        "model.add(tf.keras.layers.Dense(64,use_bias=True))\n",
        "model.add(tf.keras.layers.LeakyReLU(alpha=0.3))\n",
        "model.add(tf.keras.layers.Dense(64,use_bias=True))\n",
        "model.add(tf.keras.layers.LeakyReLU(alpha=0.3))\n",
        "model.add(tf.keras.layers.Dense(32,use_bias=True))\n",
        "model.add(tf.keras.layers.LeakyReLU(alpha=0.3))\n",
        "model.add(tf.keras.layers.Dense(16,use_bias=True))\n",
        "model.add(tf.keras.layers.LeakyReLU(alpha=0.3))\n",
        "model.add(tf.keras.layers.Dense(1, activation='linear'))\n",
        "\n",
        "model.summary()"
      ]
    },
    {
      "cell_type": "code",
      "execution_count": 187,
      "id": "e184716c",
      "metadata": {
        "colab": {
          "base_uri": "https://localhost:8080/"
        },
        "id": "e184716c",
        "outputId": "8be62fad-f7b2-4a84-b8dd-061beab80497"
      },
      "outputs": [
        {
          "output_type": "stream",
          "name": "stdout",
          "text": [
            "Epoch 1/20\n",
            "438/438 [==============================] - 2s 2ms/step - loss: 0.2471\n",
            "Epoch 2/20\n",
            "438/438 [==============================] - 1s 2ms/step - loss: 0.1137\n",
            "Epoch 3/20\n",
            "438/438 [==============================] - 1s 2ms/step - loss: 0.0924\n",
            "Epoch 4/20\n",
            "438/438 [==============================] - 1s 2ms/step - loss: 0.0755\n",
            "Epoch 5/20\n",
            "438/438 [==============================] - 2s 3ms/step - loss: 0.0659\n",
            "Epoch 6/20\n",
            "438/438 [==============================] - 1s 3ms/step - loss: 0.0622\n",
            "Epoch 7/20\n",
            "438/438 [==============================] - 1s 2ms/step - loss: 0.0599\n",
            "Epoch 8/20\n",
            "438/438 [==============================] - 1s 2ms/step - loss: 0.0554\n",
            "Epoch 9/20\n",
            "438/438 [==============================] - 1s 2ms/step - loss: 0.0561\n",
            "Epoch 10/20\n",
            "438/438 [==============================] - 1s 2ms/step - loss: 0.0514\n",
            "Epoch 11/20\n",
            "438/438 [==============================] - 1s 2ms/step - loss: 0.0514\n",
            "Epoch 12/20\n",
            "438/438 [==============================] - 1s 2ms/step - loss: 0.0497\n",
            "Epoch 13/20\n",
            "438/438 [==============================] - 1s 2ms/step - loss: 0.0469\n",
            "Epoch 14/20\n",
            "438/438 [==============================] - 1s 2ms/step - loss: 0.0484\n",
            "Epoch 15/20\n",
            "438/438 [==============================] - 1s 2ms/step - loss: 0.0464\n",
            "Epoch 16/20\n",
            "438/438 [==============================] - 1s 2ms/step - loss: 0.0447\n",
            "Epoch 17/20\n",
            "438/438 [==============================] - 1s 3ms/step - loss: 0.0413\n",
            "Epoch 18/20\n",
            "438/438 [==============================] - 2s 4ms/step - loss: 0.0417\n",
            "Epoch 19/20\n",
            "438/438 [==============================] - 1s 2ms/step - loss: 0.0402\n",
            "Epoch 20/20\n",
            "438/438 [==============================] - 1s 2ms/step - loss: 0.0394\n"
          ]
        },
        {
          "output_type": "execute_result",
          "data": {
            "text/plain": [
              "<keras.callbacks.History at 0x7f1c2a922e20>"
            ]
          },
          "metadata": {},
          "execution_count": 187
        }
      ],
      "source": [
        "optimizer=tf.keras.optimizers.Adam(learning_rate=1e-3)\n",
        "loss=tf.keras.losses.MeanSquaredError()\n",
        "model.compile(optimizer=optimizer, loss=loss)\n",
        "# This builds the model for the first time:\n",
        "model.fit(X_train, y_train, batch_size=16, epochs=20)"
      ]
    },
    {
      "cell_type": "code",
      "execution_count": 193,
      "id": "15fc8ecb",
      "metadata": {
        "colab": {
          "base_uri": "https://localhost:8080/",
          "height": 100
        },
        "id": "15fc8ecb",
        "outputId": "72e1f01f-310f-450b-ab5d-cb1faf5fe036"
      },
      "outputs": [
        {
          "output_type": "stream",
          "name": "stdout",
          "text": [
            "55/55 [==============================] - 0s 1ms/step\n"
          ]
        },
        {
          "output_type": "execute_result",
          "data": {
            "text/plain": [
              "        MAE       MSE        R2\n",
              "0  0.156399  0.059986  0.937104"
            ],
            "text/html": [
              "\n",
              "  <div id=\"df-15f8efd0-f06d-4f8b-a564-83a9f3ae1196\">\n",
              "    <div class=\"colab-df-container\">\n",
              "      <div>\n",
              "<style scoped>\n",
              "    .dataframe tbody tr th:only-of-type {\n",
              "        vertical-align: middle;\n",
              "    }\n",
              "\n",
              "    .dataframe tbody tr th {\n",
              "        vertical-align: top;\n",
              "    }\n",
              "\n",
              "    .dataframe thead th {\n",
              "        text-align: right;\n",
              "    }\n",
              "</style>\n",
              "<table border=\"1\" class=\"dataframe\">\n",
              "  <thead>\n",
              "    <tr style=\"text-align: right;\">\n",
              "      <th></th>\n",
              "      <th>MAE</th>\n",
              "      <th>MSE</th>\n",
              "      <th>R2</th>\n",
              "    </tr>\n",
              "  </thead>\n",
              "  <tbody>\n",
              "    <tr>\n",
              "      <th>0</th>\n",
              "      <td>0.156399</td>\n",
              "      <td>0.059986</td>\n",
              "      <td>0.937104</td>\n",
              "    </tr>\n",
              "  </tbody>\n",
              "</table>\n",
              "</div>\n",
              "      <button class=\"colab-df-convert\" onclick=\"convertToInteractive('df-15f8efd0-f06d-4f8b-a564-83a9f3ae1196')\"\n",
              "              title=\"Convert this dataframe to an interactive table.\"\n",
              "              style=\"display:none;\">\n",
              "        \n",
              "  <svg xmlns=\"http://www.w3.org/2000/svg\" height=\"24px\"viewBox=\"0 0 24 24\"\n",
              "       width=\"24px\">\n",
              "    <path d=\"M0 0h24v24H0V0z\" fill=\"none\"/>\n",
              "    <path d=\"M18.56 5.44l.94 2.06.94-2.06 2.06-.94-2.06-.94-.94-2.06-.94 2.06-2.06.94zm-11 1L8.5 8.5l.94-2.06 2.06-.94-2.06-.94L8.5 2.5l-.94 2.06-2.06.94zm10 10l.94 2.06.94-2.06 2.06-.94-2.06-.94-.94-2.06-.94 2.06-2.06.94z\"/><path d=\"M17.41 7.96l-1.37-1.37c-.4-.4-.92-.59-1.43-.59-.52 0-1.04.2-1.43.59L10.3 9.45l-7.72 7.72c-.78.78-.78 2.05 0 2.83L4 21.41c.39.39.9.59 1.41.59.51 0 1.02-.2 1.41-.59l7.78-7.78 2.81-2.81c.8-.78.8-2.07 0-2.86zM5.41 20L4 18.59l7.72-7.72 1.47 1.35L5.41 20z\"/>\n",
              "  </svg>\n",
              "      </button>\n",
              "      \n",
              "  <style>\n",
              "    .colab-df-container {\n",
              "      display:flex;\n",
              "      flex-wrap:wrap;\n",
              "      gap: 12px;\n",
              "    }\n",
              "\n",
              "    .colab-df-convert {\n",
              "      background-color: #E8F0FE;\n",
              "      border: none;\n",
              "      border-radius: 50%;\n",
              "      cursor: pointer;\n",
              "      display: none;\n",
              "      fill: #1967D2;\n",
              "      height: 32px;\n",
              "      padding: 0 0 0 0;\n",
              "      width: 32px;\n",
              "    }\n",
              "\n",
              "    .colab-df-convert:hover {\n",
              "      background-color: #E2EBFA;\n",
              "      box-shadow: 0px 1px 2px rgba(60, 64, 67, 0.3), 0px 1px 3px 1px rgba(60, 64, 67, 0.15);\n",
              "      fill: #174EA6;\n",
              "    }\n",
              "\n",
              "    [theme=dark] .colab-df-convert {\n",
              "      background-color: #3B4455;\n",
              "      fill: #D2E3FC;\n",
              "    }\n",
              "\n",
              "    [theme=dark] .colab-df-convert:hover {\n",
              "      background-color: #434B5C;\n",
              "      box-shadow: 0px 1px 3px 1px rgba(0, 0, 0, 0.15);\n",
              "      filter: drop-shadow(0px 1px 2px rgba(0, 0, 0, 0.3));\n",
              "      fill: #FFFFFF;\n",
              "    }\n",
              "  </style>\n",
              "\n",
              "      <script>\n",
              "        const buttonEl =\n",
              "          document.querySelector('#df-15f8efd0-f06d-4f8b-a564-83a9f3ae1196 button.colab-df-convert');\n",
              "        buttonEl.style.display =\n",
              "          google.colab.kernel.accessAllowed ? 'block' : 'none';\n",
              "\n",
              "        async function convertToInteractive(key) {\n",
              "          const element = document.querySelector('#df-15f8efd0-f06d-4f8b-a564-83a9f3ae1196');\n",
              "          const dataTable =\n",
              "            await google.colab.kernel.invokeFunction('convertToInteractive',\n",
              "                                                     [key], {});\n",
              "          if (!dataTable) return;\n",
              "\n",
              "          const docLinkHtml = 'Like what you see? Visit the ' +\n",
              "            '<a target=\"_blank\" href=https://colab.research.google.com/notebooks/data_table.ipynb>data table notebook</a>'\n",
              "            + ' to learn more about interactive tables.';\n",
              "          element.innerHTML = '';\n",
              "          dataTable['output_type'] = 'display_data';\n",
              "          await google.colab.output.renderOutput(dataTable, element);\n",
              "          const docLink = document.createElement('div');\n",
              "          docLink.innerHTML = docLinkHtml;\n",
              "          element.appendChild(docLink);\n",
              "        }\n",
              "      </script>\n",
              "    </div>\n",
              "  </div>\n",
              "  "
            ]
          },
          "metadata": {},
          "execution_count": 193
        }
      ],
      "source": [
        "predictions = model.predict(X_test)\n",
        "LinearRegression_MAE = mean_absolute_error(predictions, y_test)\n",
        "LinearRegression_MSE = mean_squared_error(predictions, y_test)\n",
        "LinearRegression_R2 = r2_score(predictions, y_test)\n",
        "Report = pd.DataFrame({'MAE': LinearRegression_MAE, 'MSE' : LinearRegression_MSE, 'R2' : LinearRegression_R2}, index=[0])\n",
        "Report"
      ]
    },
    {
      "cell_type": "markdown",
      "source": [
        "The MSE and R2 scores are exceptionally better!"
      ],
      "metadata": {
        "id": "looCgChnpTj_"
      },
      "id": "looCgChnpTj_"
    },
    {
      "cell_type": "code",
      "source": [
        "y_test_inv = boxcox_rentedbike.inverse_transform(np.array(y_test).reshape(-1,1))\n",
        "predictions_inv = boxcox_rentedbike.inverse_transform(predictions.reshape(-1,1))\n",
        "list(zip(y_test_inv, predictions_inv))[:30]"
      ],
      "metadata": {
        "colab": {
          "base_uri": "https://localhost:8080/"
        },
        "id": "nCvvrD5f6Q19",
        "outputId": "8d00ecd8-cb8a-4c90-b31a-a037c80c2c04"
      },
      "id": "nCvvrD5f6Q19",
      "execution_count": 194,
      "outputs": [
        {
          "output_type": "execute_result",
          "data": {
            "text/plain": [
              "[(array([32.]), array([29.253876], dtype=float32)),\n",
              " (array([906.]), array([1037.4684], dtype=float32)),\n",
              " (array([1376.]), array([1375.5685], dtype=float32)),\n",
              " (array([1108.]), array([993.85254], dtype=float32)),\n",
              " (array([415.]), array([378.33505], dtype=float32)),\n",
              " (array([530.]), array([179.92902], dtype=float32)),\n",
              " (array([241.]), array([248.85132], dtype=float32)),\n",
              " (array([1032.]), array([1383.9961], dtype=float32)),\n",
              " (array([116.]), array([139.397], dtype=float32)),\n",
              " (array([447.]), array([424.4144], dtype=float32)),\n",
              " (array([1081.]), array([905.73236], dtype=float32)),\n",
              " (array([783.]), array([631.1666], dtype=float32)),\n",
              " (array([838.]), array([885.41614], dtype=float32)),\n",
              " (array([1.]), array([0.9403291], dtype=float32)),\n",
              " (array([302.]), array([351.30582], dtype=float32)),\n",
              " (array([1235.]), array([997.6461], dtype=float32)),\n",
              " (array([813.]), array([1143.4417], dtype=float32)),\n",
              " (array([235.]), array([270.63965], dtype=float32)),\n",
              " (array([782.]), array([760.70276], dtype=float32)),\n",
              " (array([702.]), array([784.1814], dtype=float32)),\n",
              " (array([280.]), array([231.82365], dtype=float32)),\n",
              " (array([1936.]), array([1963.1583], dtype=float32)),\n",
              " (array([1.]), array([0.2491546], dtype=float32)),\n",
              " (array([1866.]), array([1559.5682], dtype=float32)),\n",
              " (array([876.]), array([771.6773], dtype=float32)),\n",
              " (array([1119.]), array([1111.8173], dtype=float32)),\n",
              " (array([410.]), array([675.78296], dtype=float32)),\n",
              " (array([2100.]), array([2132.1494], dtype=float32)),\n",
              " (array([996.]), array([877.10547], dtype=float32)),\n",
              " (array([11.]), array([46.32378], dtype=float32))]"
            ]
          },
          "metadata": {},
          "execution_count": 194
        }
      ]
    },
    {
      "cell_type": "markdown",
      "source": [
        "As you can see, these results are exceptionally better than the ones from the MLR model!"
      ],
      "metadata": {
        "id": "eFX04ZUXpcjA"
      },
      "id": "eFX04ZUXpcjA"
    }
  ],
  "metadata": {
    "kernelspec": {
      "display_name": "Python 3 (ipykernel)",
      "language": "python",
      "name": "python3"
    },
    "language_info": {
      "codemirror_mode": {
        "name": "ipython",
        "version": 3
      },
      "file_extension": ".py",
      "mimetype": "text/x-python",
      "name": "python",
      "nbconvert_exporter": "python",
      "pygments_lexer": "ipython3",
      "version": "3.9.13"
    },
    "colab": {
      "provenance": []
    }
  },
  "nbformat": 4,
  "nbformat_minor": 5
}